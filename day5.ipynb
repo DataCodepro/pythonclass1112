{
 "cells": [
  {
   "cell_type": "code",
   "execution_count": 10,
   "metadata": {},
   "outputs": [
    {
     "name": "stdout",
     "output_type": "stream",
     "text": [
      "The total saving for three year is 5955.08\n"
     ]
    }
   ],
   "source": [
    "principal = 5000\n",
    "rate = 6\n",
    "time = 3\n",
    "ci = principal * (1+ (rate/100))**time\n",
    "print(f'The total saving for three year is {ci}')"
   ]
  },
  {
   "cell_type": "code",
   "execution_count": 17,
   "metadata": {},
   "outputs": [
    {
     "name": "stdout",
     "output_type": "stream",
     "text": [
      "the total savings after three years is 701006.25\n"
     ]
    }
   ],
   "source": [
    "fp = 550000\n",
    "r = 5\n",
    "t = 3\n",
    "afterfirstyear = 25000\n",
    "aftersecondyear = 35000\n",
    "firstyear = (fp * (r/100)) + fp+afterfirstyear\n",
    "secondyear = (firstyear*(r/100)) +firstyear + aftersecondyear\n",
    "thirdyear = (secondyear*(r/100)) + secondyear\n",
    "print(f'the total savings after three years is {thirdyear}')"
   ]
  },
  {
   "cell_type": "code",
   "execution_count": 20,
   "metadata": {},
   "outputs": [
    {
     "name": "stdout",
     "output_type": "stream",
     "text": [
      "JJJ\n",
      "AAA\n",
      "VVV\n",
      "AAA\n"
     ]
    }
   ],
   "source": [
    "course = 'JAVA'\n",
    "for i in course:\n",
    "    print(i * 3)"
   ]
  },
  {
   "cell_type": "code",
   "execution_count": 22,
   "metadata": {},
   "outputs": [
    {
     "name": "stdout",
     "output_type": "stream",
     "text": [
      "JJJ:::AAA:::VVV:::AAA:::"
     ]
    }
   ],
   "source": [
    "course = 'JAVA'\n",
    "for i in course:\n",
    "    print(i * 3, end=':::')"
   ]
  },
  {
   "cell_type": "code",
   "execution_count": 23,
   "metadata": {},
   "outputs": [
    {
     "name": "stdout",
     "output_type": "stream",
     "text": [
      "Hello Dr Ade this is a reminder of our meeting by 5pm\n",
      "Hello Dr Hope this is a reminder of our meeting by 5pm\n",
      "Hello Mr Kunle this is a reminder of our meeting by 5pm\n"
     ]
    }
   ],
   "source": [
    "names = ['Dr Ade','Dr Hope','Mr Kunle']\n",
    "for name in names:\n",
    "    print(f'Hello {name} this is a reminder of our meeting by 5pm')"
   ]
  },
  {
   "cell_type": "code",
   "execution_count": 3,
   "metadata": {},
   "outputs": [
    {
     "name": "stdout",
     "output_type": "stream",
     "text": [
      "The sqrt of 50 is 7.0710678118654755\n",
      "The sqrt of 23 is 4.795831523312719\n",
      "The sqrt of 56 is 7.483314773547883\n",
      "The sqrt of 98 is 9.899494936611665\n",
      "The sqrt of 58 is 7.615773105863909\n"
     ]
    }
   ],
   "source": [
    "import math\n",
    "usernum = int(input('Please provide a number:'))\n",
    "counter =1\n",
    "while usernum != 0:\n",
    "    print(f'The sqrt of {usernum} is {math.sqrt(usernum)}')\n",
    "    usernum = int(input('Please provide a number:'))\n",
    "    counter = counter + 1"
   ]
  },
  {
   "cell_type": "code",
   "execution_count": 6,
   "metadata": {},
   "outputs": [
    {
     "name": "stdout",
     "output_type": "stream",
     "text": [
      "NAME:Samule Ania\n",
      "GENDER:Male\n",
      "BALANCE:78000.59\n",
      "    \n",
      "Avaliable Balance is 78000.59\n",
      "Transcation Succesful, new balance is 120000.59\n",
      "Avaliable Balance is 120000.59\n",
      "Transfer Succesful, new balance is 78000.59\n"
     ]
    }
   ],
   "source": [
    "bankrecords = {\n",
    "    '25256':['Ade Mary','Female',45000],\n",
    "    '30358':['Samule Ania','Male',78000.59],\n",
    "    '45412':['Jonah Lawal','Male',15000],\n",
    "    '58966':['Uju Fauthg','Female',150000],\n",
    "    '74589':['Jame Mary','Female',25000]\n",
    "}\n",
    "counter = 1\n",
    "x = input('y as yes to perform operation n as no')\n",
    "while x == 'y':\n",
    "    userpassword = input('Please enter your password')\n",
    "    operation  = int(input('Pick an opeartion 1 to display details,2 to transfer, 3 to withdraw, 4 to deposit'))\n",
    "    if operation == 1:\n",
    "        for key in bankrecords:\n",
    "            if userpassword == key:\n",
    "                print(f'''NAME:{bankrecords[userpassword][0]}\n",
    "GENDER:{bankrecords[userpassword][1]}\n",
    "BALANCE:{bankrecords[userpassword][-1]}\n",
    "    ''')\n",
    "    elif operation == 2:\n",
    "        for key in bankrecords:\n",
    "            if userpassword == key:\n",
    "                print(f'Avaliable Balance is {bankrecords[userpassword][-1]}')\n",
    "                amount = float(input('Please provide amount to transfer'))\n",
    "                destination = input( 'Provide destination account number')\n",
    "                bankrecords[userpassword][-1] = bankrecords[userpassword][-1] - amount\n",
    "                print(f'Transfer Succesful, new balance is {bankrecords[userpassword][-1]}')\n",
    "    elif operation == 3:\n",
    "        for key in bankrecords:\n",
    "            if userpassword == key:\n",
    "                print(f'Avaliable Balance is {bankrecords[userpassword][-1]}')\n",
    "                bankrecords[userpassword][-1] = bankrecords[userpassword][-1] - amount\n",
    "                print(f'Transfer Succesful, new balance is {bankrecords[userpassword][-1]}')\n",
    "    elif operation == 4:\n",
    "        for key in bankrecords:\n",
    "            if userpassword == key:\n",
    "                print(f'Avaliable Balance is {bankrecords[userpassword][-1]}')\n",
    "                amount = float(input('Please provide amount to Deposit'))\n",
    "                destination = input( 'Provide destination account number')\n",
    "                bankrecords[userpassword][-1] =bankrecords[userpassword][-1] + amount\n",
    "                print(f'Transcation Succesful, new balance is {bankrecords[userpassword][-1]}')\n",
    "    x = input('y as yes to perform operation n as no')\n",
    "    counter = counter + 1"
   ]
  },
  {
   "cell_type": "code",
   "execution_count": null,
   "metadata": {},
   "outputs": [],
   "source": []
  }
 ],
 "metadata": {
  "kernelspec": {
   "display_name": "Python 3.10.4 64-bit",
   "language": "python",
   "name": "python3"
  },
  "language_info": {
   "codemirror_mode": {
    "name": "ipython",
    "version": 3
   },
   "file_extension": ".py",
   "mimetype": "text/x-python",
   "name": "python",
   "nbconvert_exporter": "python",
   "pygments_lexer": "ipython3",
   "version": "3.10.4"
  },
  "orig_nbformat": 4,
  "vscode": {
   "interpreter": {
    "hash": "97a318a1c10ea3cad32b5f740e8bef65bce9a717407c951d39899fa160feabd9"
   }
  }
 },
 "nbformat": 4,
 "nbformat_minor": 2
}
