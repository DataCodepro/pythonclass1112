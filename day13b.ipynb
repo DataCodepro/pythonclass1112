{
 "cells": [
  {
   "cell_type": "code",
   "execution_count": 1,
   "metadata": {},
   "outputs": [],
   "source": [
    "import pymysql"
   ]
  },
  {
   "cell_type": "code",
   "execution_count": 2,
   "metadata": {},
   "outputs": [],
   "source": [
    "mydb = pymysql.connect(\n",
    "    host = 'localhost',\n",
    "    user = 'root',\n",
    "    password='seyilaw1'\n",
    ")\n",
    "mycursor = mydb.cursor()"
   ]
  },
  {
   "cell_type": "code",
   "execution_count": 4,
   "metadata": {},
   "outputs": [
    {
     "name": "stdout",
     "output_type": "stream",
     "text": [
      "('accesswayprimebank',)\n",
      "('employee_management_system',)\n",
      "('employeemanagementsystem',)\n",
      "('footballmanagementsystem',)\n",
      "('greenwayschoolmanagementsystem',)\n",
      "('information_schema',)\n",
      "('mysql',)\n",
      "('nbamanagementsystem',)\n",
      "('packwaystore',)\n",
      "('performance_schema',)\n",
      "('sakila',)\n",
      "('schoolmanagementsystem',)\n",
      "('shoprise',)\n",
      "('sys',)\n",
      "('world',)\n"
     ]
    }
   ],
   "source": [
    "mycursor.execute('show databases')\n",
    "for x in mycursor:\n",
    "    print(x)"
   ]
  },
  {
   "cell_type": "code",
   "execution_count": 5,
   "metadata": {},
   "outputs": [],
   "source": [
    "mydb = pymysql.connect(\n",
    "    host = 'localhost',\n",
    "    user = 'root',\n",
    "    password='seyilaw1',\n",
    "    database='nbamanagementsystem'\n",
    ")\n",
    "mycursor = mydb.cursor()"
   ]
  },
  {
   "cell_type": "code",
   "execution_count": 6,
   "metadata": {},
   "outputs": [],
   "source": [
    "sql = \"insert into nbaplayersdetails(playerid, playername,playerposition) values (%s,%s,%s)\"\n",
    "val = [(8,'Micheal Best','Attacker'),\n",
    "(9,'Gardner Bole','Defender'),\n",
    "(10,'Lewis Rice','Stopper'),\n",
    "(11,'Rat Cook','Attacker'),\n",
    "(12,'John Ironman','Stopper'),\n",
    "(13,'Alfrey Base','Defender'),\n",
    "(14,'Pope Gardner','Midfielder'),\n",
    "(15,'Brown Jolly','Attacker')]\n",
    "mycursor.executemany(sql,val)\n",
    "mydb.commit()"
   ]
  },
  {
   "cell_type": "code",
   "execution_count": 8,
   "metadata": {},
   "outputs": [
    {
     "name": "stdout",
     "output_type": "stream",
     "text": [
      "(1, 'Micheal Jordan', 'Attacker')\n",
      "(2, 'Harry Bole', 'Defender')\n",
      "(3, 'Lewis John', 'Stopper')\n",
      "(4, 'Rat Hollwell', 'Attacker')\n",
      "(5, 'John Batting', 'Stopper')\n",
      "(6, 'Alfrey James', 'Defender')\n",
      "(7, 'James Gardner', 'Midfielder')\n",
      "(8, 'Micheal Best', 'Attacker')\n",
      "(9, 'Gardner Bole', 'Defender')\n",
      "(10, 'Lewis Rice', 'Stopper')\n",
      "(11, 'Rat Cook', 'Attacker')\n",
      "(12, 'John Ironman', 'Stopper')\n",
      "(13, 'Alfrey Base', 'Defender')\n",
      "(14, 'Pope Gardner', 'Midfielder')\n",
      "(15, 'Brown Jolly', 'Attacker')\n"
     ]
    }
   ],
   "source": [
    "mycursor.execute(\"select * from nbaplayersdetails\")\n",
    "for x in mycursor:\n",
    "    print(x)"
   ]
  },
  {
   "cell_type": "code",
   "execution_count": null,
   "metadata": {},
   "outputs": [],
   "source": []
  }
 ],
 "metadata": {
  "kernelspec": {
   "display_name": "Python 3.10.4 64-bit",
   "language": "python",
   "name": "python3"
  },
  "language_info": {
   "codemirror_mode": {
    "name": "ipython",
    "version": 3
   },
   "file_extension": ".py",
   "mimetype": "text/x-python",
   "name": "python",
   "nbconvert_exporter": "python",
   "pygments_lexer": "ipython3",
   "version": "3.10.4 (tags/v3.10.4:9d38120, Mar 23 2022, 23:13:41) [MSC v.1929 64 bit (AMD64)]"
  },
  "orig_nbformat": 4,
  "vscode": {
   "interpreter": {
    "hash": "97a318a1c10ea3cad32b5f740e8bef65bce9a717407c951d39899fa160feabd9"
   }
  }
 },
 "nbformat": 4,
 "nbformat_minor": 2
}
