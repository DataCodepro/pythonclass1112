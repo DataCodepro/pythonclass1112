{
 "cells": [
  {
   "cell_type": "code",
   "execution_count": 1,
   "metadata": {},
   "outputs": [],
   "source": [
    "#Exercise\n",
    "#write a progam to generate a dice for two player, this dice will be rolled ten times, for each round write a condition to display the winner or a draw if playerone wins add 5point and if player two wins add 5point else add 2 point each and finally write a condition to display the over all winner \n",
    "# NOTE::: YOU ARE TO DEFINE A FUNCTION FOR THIS PROGRAM\n",
    "#STOP BY 5PM"
   ]
  },
  {
   "cell_type": "code",
   "execution_count": 2,
   "metadata": {},
   "outputs": [
    {
     "name": "stdout",
     "output_type": "stream",
     "text": [
      "PLAYER ONE SCORE::11\n",
      "PLAYER TWO SCORE::2\n",
      "PLAYER ONE WINS\n",
      "\n",
      "\n",
      "PLAYER ONE SCORE::6\n",
      "PLAYER TWO SCORE::5\n",
      "PLAYER ONE WINS\n",
      "\n",
      "\n",
      "PLAYER ONE SCORE::4\n",
      "PLAYER TWO SCORE::6\n",
      "PLAYER TWO WINS\n",
      "\n",
      "\n",
      "PLAYER ONE SCORE::9\n",
      "PLAYER TWO SCORE::5\n",
      "PLAYER ONE WINS\n",
      "\n",
      "\n",
      "PLAYER ONE SCORE::3\n",
      "PLAYER TWO SCORE::5\n",
      "PLAYER TWO WINS\n",
      "\n",
      "\n",
      "PLAYER ONE SCORE::12\n",
      "PLAYER TWO SCORE::8\n",
      "PLAYER ONE WINS\n",
      "\n",
      "\n",
      "PLAYER ONE SCORE::8\n",
      "PLAYER TWO SCORE::7\n",
      "PLAYER ONE WINS\n",
      "\n",
      "\n",
      "PLAYER ONE SCORE::9\n",
      "PLAYER TWO SCORE::6\n",
      "PLAYER ONE WINS\n",
      "\n",
      "\n",
      "PLAYER ONE SCORE::4\n",
      "PLAYER TWO SCORE::8\n",
      "PLAYER TWO WINS\n",
      "\n",
      "\n",
      "PLAYER ONE SCORE::7\n",
      "PLAYER TWO SCORE::6\n",
      "PLAYER ONE WINS\n",
      "\n",
      "\n",
      "PLAYER ONE IS THE OVERALL WINNER WITH A TOTAL POINT OF 35\n"
     ]
    }
   ],
   "source": [
    "def diceroller():\n",
    "    import random\n",
    "    playeronescore = 0\n",
    "    playertwoscore = 0\n",
    "    for i in range(1,11):\n",
    "        dice1 = random.randint(1,6) + random.randint(1,6)\n",
    "        dice2 = random.randint(1,6) + random.randint(1,6)\n",
    "        if dice1 > dice2:\n",
    "            print(f'PLAYER ONE SCORE::{dice1}')\n",
    "            print(f'PLAYER TWO SCORE::{dice2}')\n",
    "            print('PLAYER ONE WINS')\n",
    "            playeronescore += 5\n",
    "            print('\\n')\n",
    "        elif dice2 > dice1:\n",
    "            print(f'PLAYER ONE SCORE::{dice1}')\n",
    "            print(f'PLAYER TWO SCORE::{dice2}')\n",
    "            print('PLAYER TWO WINS')\n",
    "            playertwoscore += 5\n",
    "            print('\\n')\n",
    "        else:\n",
    "            print(f'PLAYER ONE SCORE::{dice1}')\n",
    "            print(f'PLAYER TWO SCORE::{dice2}')\n",
    "            print('IT IS A DRAW')\n",
    "            playeronescore += 2\n",
    "            playertwoscore += 2\n",
    "            print('\\n')\n",
    "    if playeronescore > playertwoscore:\n",
    "        print(f'PLAYER ONE IS THE OVERALL WINNER WITH A TOTAL POINT OF {playeronescore}')\n",
    "    elif playertwoscore > playeronescore:\n",
    "        print(f'PLAYER TWO IS THE OVERALL WINNER WITH A TOTAL POINT OF {playertwoscore}')\n",
    "    else:\n",
    "        print('IT IS A DRAW')\n",
    "diceroller()"
   ]
  },
  {
   "cell_type": "code",
   "execution_count": 4,
   "metadata": {},
   "outputs": [
    {
     "name": "stdout",
     "output_type": "stream",
     "text": [
      "45.0 + 7.0 = 52.0\n"
     ]
    }
   ],
   "source": [
    "try:\n",
    "    num1 = int(input('Enter first number:'))\n",
    "    num2 = int(input('Enter second number:'))\n",
    "    option = input('Pick an operation [ +, -, /, *]:')\n",
    "    if option == '+':\n",
    "        print(f'{num1} + {num2} = {num1 + num2}')\n",
    "    elif option == '-':\n",
    "        print(f'{num1} - {num2} = {num1 - num2}')\n",
    "    elif option == '/':\n",
    "        print(f'{num1} / {num2} = {num1 / num2}')\n",
    "    elif option == '*':\n",
    "        print(f'{num1} * {num2} = {num1 * num2}')\n",
    "except:\n",
    "    print('You have encountered one or more errors')"
   ]
  },
  {
   "cell_type": "code",
   "execution_count": 10,
   "metadata": {},
   "outputs": [
    {
     "name": "stdout",
     "output_type": "stream",
     "text": [
      "25 + 2 = 27\n",
      "625\n",
      "END OF PROGRAM\n"
     ]
    }
   ],
   "source": [
    "try:\n",
    "    num1 = int(input('Enter first number:'))\n",
    "    num2 = int(input('Enter second number:'))\n",
    "    option = input('Pick an operation [ +, -, /, *]:')\n",
    "    if option == '+':\n",
    "        print(f'{num1} + {num2} = {num1 + num2}')\n",
    "    elif option == '-':\n",
    "        print(f'{num1} - {num2} = {num1 - num2}')\n",
    "    elif option == '/':\n",
    "        print(f'{num1} / {num2} = {num1 / num2}')\n",
    "    elif option == '*':\n",
    "        print(f'{num1} * {num2} = {num1 * num2}')\n",
    "except ValueError:\n",
    "    print('SORRY ONLY WHOLE NUMBERS ARE EXPECTED')\n",
    "except ZeroDivisionError:\n",
    "    print('SORRY YOU CANNOT DIVIDE A NUMBER BY ZERO')\n",
    "except:\n",
    "    print('You have encountered one or more errors')\n",
    "else:\n",
    "    print(num1 ** num2)\n",
    "finally:\n",
    "    print('END OF PROGRAM')"
   ]
  },
  {
   "cell_type": "code",
   "execution_count": null,
   "metadata": {},
   "outputs": [],
   "source": []
  }
 ],
 "metadata": {
  "kernelspec": {
   "display_name": "Python 3.10.4 64-bit",
   "language": "python",
   "name": "python3"
  },
  "language_info": {
   "codemirror_mode": {
    "name": "ipython",
    "version": 3
   },
   "file_extension": ".py",
   "mimetype": "text/x-python",
   "name": "python",
   "nbconvert_exporter": "python",
   "pygments_lexer": "ipython3",
   "version": "3.10.4"
  },
  "orig_nbformat": 4,
  "vscode": {
   "interpreter": {
    "hash": "97a318a1c10ea3cad32b5f740e8bef65bce9a717407c951d39899fa160feabd9"
   }
  }
 },
 "nbformat": 4,
 "nbformat_minor": 2
}
