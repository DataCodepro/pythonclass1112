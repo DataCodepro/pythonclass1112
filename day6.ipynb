{
 "cells": [
  {
   "cell_type": "markdown",
   "metadata": {},
   "source": [
    "# FUNCTIONS"
   ]
  },
  {
   "cell_type": "code",
   "execution_count": 4,
   "metadata": {},
   "outputs": [
    {
     "name": "stdout",
     "output_type": "stream",
     "text": [
      "The output of n1 + n2 is 15\n"
     ]
    }
   ],
   "source": [
    "def add(): # A FUNCTION WITHOUT A PARAMETER\n",
    "    n1 = 5\n",
    "    n2 = 10\n",
    "    print(f'The output of n1 + n2 is {n1 + n2}')\n",
    "add()"
   ]
  },
  {
   "cell_type": "code",
   "execution_count": 5,
   "metadata": {},
   "outputs": [
    {
     "name": "stdout",
     "output_type": "stream",
     "text": [
      "The output of n1 + n2 is 15\n"
     ]
    }
   ],
   "source": [
    "add()"
   ]
  },
  {
   "cell_type": "code",
   "execution_count": 7,
   "metadata": {},
   "outputs": [
    {
     "name": "stdout",
     "output_type": "stream",
     "text": [
      "the output of n1 + n2 is 135\n"
     ]
    }
   ],
   "source": [
    "def addition(n1,n2):\n",
    "    print(f'the output of n1 + n2 is {n1 + n2}')\n",
    "addition(55,80)"
   ]
  },
  {
   "cell_type": "code",
   "execution_count": 8,
   "metadata": {},
   "outputs": [
    {
     "name": "stdout",
     "output_type": "stream",
     "text": [
      "SHIPPING DETAILS\n",
      "DESTINATION::Kano\n",
      "ITEM CONDITION::non-fragile\n",
      "ITEM WEIGHT::10\n",
      "\n",
      "Your shipping fee is 2500\n"
     ]
    }
   ],
   "source": [
    "def shippingsystem(location,condition,weight = 10):\n",
    "    print(f'''SHIPPING DETAILS\n",
    "DESTINATION::{location}\n",
    "ITEM CONDITION::{condition}\n",
    "ITEM WEIGHT::{weight}\n",
    "''')\n",
    "    if weight <= 10 and condition == 'fragile':\n",
    "        print(f'Your shipping fee is {weight * 500}')\n",
    "    elif weight <= 10 and condition == 'non-fragile':\n",
    "        print(f'Your shipping fee is {weight * 250}')\n",
    "    elif weight > 10 and condition == 'fragile':\n",
    "        print(f'Your shipping fee is {weight * 1000}')\n",
    "    elif weight > 10 and condition == 'non-fragile':\n",
    "        print(f'Your shipping fee is {weight * 500}')\n",
    "shippingsystem('Kano','non-fragile')"
   ]
  },
  {
   "cell_type": "code",
   "execution_count": 9,
   "metadata": {},
   "outputs": [
    {
     "name": "stdout",
     "output_type": "stream",
     "text": [
      "SHIPPING DETAILS\n",
      "DESTINATION::Abuja\n",
      "ITEM CONDITION::fragile\n",
      "ITEM WEIGHT::80\n",
      "\n",
      "Your shipping fee is 80000\n"
     ]
    }
   ],
   "source": [
    "shippingsystem('Abuja','fragile',80)"
   ]
  },
  {
   "cell_type": "code",
   "execution_count": 10,
   "metadata": {},
   "outputs": [
    {
     "name": "stdout",
     "output_type": "stream",
     "text": [
      "<class 'tuple'>\n",
      "The average score of the following numbers (12, 58) is 35\n"
     ]
    }
   ],
   "source": [
    "def averagesocre(*numbers):\n",
    "    print(type(numbers))\n",
    "    import statistics as stat\n",
    "    print(f'The average score of the following numbers {numbers} is {stat.mean(numbers)}')\n",
    "averagesocre(12,58)"
   ]
  },
  {
   "cell_type": "code",
   "execution_count": 11,
   "metadata": {},
   "outputs": [
    {
     "name": "stdout",
     "output_type": "stream",
     "text": [
      "<class 'tuple'>\n",
      "The average score of the following numbers (85, 58, 96, 54, 87, 89, 85, 20, 25, 69, 87, 87, 89, 52, 36, 45, 48) is 65.41176470588235\n"
     ]
    }
   ],
   "source": [
    "averagesocre(85,58,96,54,87,89,85,20,25,69,87,87,89,52,36,45,48)"
   ]
  },
  {
   "cell_type": "code",
   "execution_count": 12,
   "metadata": {},
   "outputs": [],
   "source": [
    "import random\n",
    "outcome = []\n",
    "counter = 1\n",
    "while counter <= 50:\n",
    "    num = random.randint(60,85)\n",
    "    outcome.append(num)\n",
    "    counter +=1"
   ]
  },
  {
   "cell_type": "code",
   "execution_count": 13,
   "metadata": {},
   "outputs": [
    {
     "name": "stdout",
     "output_type": "stream",
     "text": [
      "50\n"
     ]
    }
   ],
   "source": [
    "print(len(outcome))"
   ]
  },
  {
   "cell_type": "code",
   "execution_count": 14,
   "metadata": {},
   "outputs": [
    {
     "name": "stdout",
     "output_type": "stream",
     "text": [
      "[80, 80, 80, 72, 62, 77, 79, 69, 63, 72, 82, 76, 73, 69, 79, 65, 63, 68, 78, 78, 83, 72, 82, 83, 78, 77, 63, 74, 82, 75, 67, 81, 85, 83, 78, 63, 84, 78, 67, 80, 77, 64, 71, 74, 69, 68, 65, 61, 84, 68]\n"
     ]
    }
   ],
   "source": [
    "print(outcome)"
   ]
  },
  {
   "cell_type": "code",
   "execution_count": 15,
   "metadata": {},
   "outputs": [
    {
     "name": "stdout",
     "output_type": "stream",
     "text": [
      "<class 'tuple'>\n",
      "The average score of the following numbers (80, 80, 80, 72, 62, 77, 79, 69, 63, 72, 82, 76, 73, 69, 79, 65, 63, 68, 78, 78, 83, 72, 82, 83, 78, 77, 63, 74, 82, 75, 67, 81, 85, 83, 78, 63, 84, 78, 67, 80, 77, 64, 71, 74, 69, 68, 65, 61, 84, 68) is 74.02\n"
     ]
    }
   ],
   "source": [
    "averagesocre(*outcome)"
   ]
  },
  {
   "cell_type": "code",
   "execution_count": 16,
   "metadata": {},
   "outputs": [
    {
     "name": "stdout",
     "output_type": "stream",
     "text": [
      "<class 'dict'>\n",
      "Name ::: Paul\n",
      "Gender ::: Male\n",
      "Age ::: 15\n",
      "Height ::: 1.98\n"
     ]
    }
   ],
   "source": [
    "def records(**details):\n",
    "    print(type(details))\n",
    "    for key,value in details.items():\n",
    "        print(f'{key} ::: {value}')\n",
    "records(Name ='Paul',Gender = 'Male', Age = 15,Height = 1.98)"
   ]
  },
  {
   "cell_type": "code",
   "execution_count": 17,
   "metadata": {},
   "outputs": [],
   "source": [
    "padddy = {\n",
    "    'Child1':['Job','Male',30],\n",
    "    'Child2':['Mary','Female',26],\n",
    "    'Child3':['Hope','Female',22]\n",
    "}"
   ]
  },
  {
   "cell_type": "code",
   "execution_count": 18,
   "metadata": {},
   "outputs": [
    {
     "name": "stdout",
     "output_type": "stream",
     "text": [
      "<class 'dict'>\n",
      "Child1 ::: ['Job', 'Male', 30]\n",
      "Child2 ::: ['Mary', 'Female', 26]\n",
      "Child3 ::: ['Hope', 'Female', 22]\n"
     ]
    }
   ],
   "source": [
    "records(**padddy)"
   ]
  },
  {
   "cell_type": "code",
   "execution_count": 19,
   "metadata": {},
   "outputs": [],
   "source": [
    "# EXERCISE \n",
    "# WRITE A  FUNCTION TO POST A EMPLOYEE TO ANY OF THIS STATE ['OYO', 'DELTA','KANO'] BASED ON THIS CONDTIONS 1. IF GENDER IS MALE AND AGE IS BETWEEN 20 TO 40 2. IF GENDER IS FEMALE AND MARRIED THIS PERSON SHOULD REMAIN AT MAIN OFFICE 3. IF GENDER IS FEMALE AND SINGLE  AND AGE IS BETWEEN 20 TO 40 ANY OF THE LOCATION AND ANY AGE ABOVE 40 SHOULD ALSO REMAIN AT THE MAIN OFFICE"
   ]
  },
  {
   "cell_type": "code",
   "execution_count": 22,
   "metadata": {},
   "outputs": [
    {
     "name": "stdout",
     "output_type": "stream",
     "text": [
      "Congratulations you have been posted to DELTA\n"
     ]
    }
   ],
   "source": [
    "def postingsystem():\n",
    "    location = ['OYO', 'DELTA','KANO']\n",
    "    gender = input('Employee Gender:')\n",
    "    age = float(input('Employee Age:'))\n",
    "    maritalstatus = input('Employee Marital status:')\n",
    "    import random\n",
    "    if gender == 'Male' and age >=20 and age <= 40:\n",
    "        print(f'Congratulations you have been posted to {random.choice(location)}')\n",
    "    elif gender =='Female' and maritalstatus == 'Married':\n",
    "        print('You are retained at main office')\n",
    "    elif gender =='Female' and maritalstatus =='Single' and age >= 20 and age <= 40:\n",
    "        print(f'Congratulations you have been posted to {random.choice(location)}')\n",
    "    elif age > 40:\n",
    "        print('You are retained at main office')\n",
    "postingsystem()"
   ]
  },
  {
   "cell_type": "code",
   "execution_count": null,
   "metadata": {},
   "outputs": [],
   "source": []
  }
 ],
 "metadata": {
  "kernelspec": {
   "display_name": "Python 3.10.4 64-bit",
   "language": "python",
   "name": "python3"
  },
  "language_info": {
   "codemirror_mode": {
    "name": "ipython",
    "version": 3
   },
   "file_extension": ".py",
   "mimetype": "text/x-python",
   "name": "python",
   "nbconvert_exporter": "python",
   "pygments_lexer": "ipython3",
   "version": "3.10.4"
  },
  "orig_nbformat": 4,
  "vscode": {
   "interpreter": {
    "hash": "97a318a1c10ea3cad32b5f740e8bef65bce9a717407c951d39899fa160feabd9"
   }
  }
 },
 "nbformat": 4,
 "nbformat_minor": 2
}
