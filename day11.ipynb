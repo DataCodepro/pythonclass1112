{
 "cells": [
  {
   "cell_type": "code",
   "execution_count": 1,
   "metadata": {},
   "outputs": [],
   "source": [
    "#Write a program to calculate how many seconds it takes to answer five question\n",
    "#NOTE:: you are to generate the questions to be answered"
   ]
  },
  {
   "cell_type": "code",
   "execution_count": 2,
   "metadata": {},
   "outputs": [
    {
     "name": "stdout",
     "output_type": "stream",
     "text": [
      "Your Score is 25 in 153 seconds\n"
     ]
    }
   ],
   "source": [
    "import datetime\n",
    "answer = {\n",
    "    'Q1':['Set','List','Array','Dictionary'],\n",
    "    'Q2':['For loop','While loop','Do-while loop'],\n",
    "    'Q3':[5,7,4,8],\n",
    "    'Q4':[2,3,8,5],\n",
    "    'Q5':['self','constructor','__init__']\n",
    "}\n",
    "score = 0\n",
    "start = datetime.datetime.now()\n",
    "question1 = input('A data structure that stores value of same data type is known as:')\n",
    "if question1 == answer['Q1'][2]:\n",
    "    score += 5 \n",
    "else:\n",
    "    score +=0\n",
    "question2 = input('Which type of loop is not recognized by python:')\n",
    "if question2 == answer['Q2'][2]:\n",
    "    score += 5 \n",
    "else:\n",
    "    score +=0\n",
    "question3 = int(input('How many Arthimetic operators do we have in python:'))\n",
    "if question3 == answer['Q3'][1]:\n",
    "    score += 5 \n",
    "else:\n",
    "    score +=0\n",
    "question4 = int(input('Element of programming are divided into how many part:'))\n",
    "if question4 == answer['Q4'][3]:\n",
    "    score += 5 \n",
    "else:\n",
    "    score +=0\n",
    "question5 = input('In class and object which keyword is needed in order to have access to it\\'s attributes and methods:')\n",
    "if question5 == answer['Q5'][0]:\n",
    "    score += 5 \n",
    "else:\n",
    "    score +=0\n",
    "stop = datetime.datetime.now()\n",
    "diff = stop - start\n",
    "print(f'Your Score is {score} in {diff.seconds} seconds')"
   ]
  },
  {
   "cell_type": "code",
   "execution_count": 3,
   "metadata": {},
   "outputs": [],
   "source": [
    "#file input and output\n",
    "#w, r, a, r+"
   ]
  },
  {
   "cell_type": "code",
   "execution_count": 6,
   "metadata": {},
   "outputs": [],
   "source": [
    "file = open('demo.pdf','w')\n",
    "file.write('''Python distinguishes between files opened in binary and text modes, even when the underlying operating system doesn't. Files opened in binary mode (appending 'b' to the mode argument) return contents as bytes objects without any decoding. In text mode (the default, or when 't' is appended to the mode argument), the contents of the file are returned as strings, the bytes having been first decoded using a platform-dependent encoding or using the specified encoding if given.\n",
    "\n",
    "'U' mode is deprecated and will raise an exception in future versions of Python. It has no effect in Python 3. Use newline to control universal newlines mode.\n",
    "\n",
    "buffering is an optional integer used to set the buffering policy. Pass 0 to switch buffering off (only allowed in binary mode), 1 to select line buffering (only usable in text mode), and an integer > 1 to indicate the size of a fixed-size chunk buffer. When no buffering argument is given, the default buffering policy works as follows:\n",
    "\n",
    "Binary files are buffered in fixed-size chunks; the size of the buffer is chosen using a heuristic trying to determine the underlying device's \"block size\" and falling back on io.DEFAULT_BUFFER_SIZE. On many systems, the buffer will typically be 4096 or 8192 bytes long.\n",
    "\n",
    "\"Interactive\" text files (files for which isatty() returns True) use line buffering. Other text files use the policy described above for binary files.\n",
    "\n",
    "encoding is the name of the encoding used to decode or encode the file. This should only be used in text mode. The default encoding is platform dependent, but any encoding supported by Python can be passed. See the codecs module for the list of supported encodings.\n",
    "\n",
    "errors is an optional string that specifies how encoding errors are to be handled---this argument should not be used in binary mode. Pass 'strict' to raise a ValueError exception if there is an encoding error (the default of None has the same effect), or pass 'ignore' to ignore errors. (Note that ignoring encoding errors can lead to data loss.) See the documentation for codecs.register or run 'help(codecs.Codec)' for a list of the permitted encoding error strings.\n",
    "\n",
    "newline controls how universal newlines works (it only applies to text mode). It can be None, '', '\\n', '\\r', and '\\r\\n'. It works as follows:\n",
    "\n",
    "On input, if newline is None, universal newlines mode is enabled. Lines in the input can end in '\\n', '\\r', or '\\r\\n', and these are translated into '\\n' before being returned to the caller. If it is '', universal newline mode is enabled, but line endings are returned to the caller untranslated. If it has any of the other legal values, input lines are only terminated by the given string, and the line ending is returned to the caller untranslated.\n",
    "\n",
    "On output, if newline is None, any '\\n' characters written are translated to the system default line separator, os.linesep. If newline is '' or , no translation takes place. If newline is any of the other legal values, any  characters written are translated to the given string.\n",
    "\n",
    "''')\n",
    "file.close()"
   ]
  },
  {
   "cell_type": "code",
   "execution_count": 8,
   "metadata": {},
   "outputs": [
    {
     "name": "stdout",
     "output_type": "stream",
     "text": [
      "Python distinguishes between files opened in binary and text modes, even when the underlying operating system doesn't. Files opened in binary mode (appending 'b' to the mode argument) return contents as bytes objects without any decoding. In text mode (the default, or when 't' is appended to the mode argument), the contents of the file are returned as strings, the bytes having been first decoded using a platform-dependent encoding or using the specified encoding if given.\n",
      "\n",
      "'U' mode is deprecated and will raise an exception in future versions of Python. It has no effect in Python 3. Use newline to control universal newlines mode.\n",
      "\n",
      "buffering is an optional integer used to set the buffering policy. Pass 0 to switch buffering off (only allowed in binary mode), 1 to select line buffering (only usable in text mode), and an integer > 1 to indicate the size of a fixed-size chunk buffer. When no buffering argument is given, the default buffering policy works as follows:\n",
      "\n",
      "Binary files are buffered in fixed-size chunks; the size of the buffer is chosen using a heuristic trying to determine the underlying device's \"block size\" and falling back on io.DEFAULT_BUFFER_SIZE. On many systems, the buffer will typically be 4096 or 8192 bytes long.\n",
      "\n",
      "\"Interactive\" text files (files for which isatty() returns True) use line buffering. Other text files use the policy described above for binary files.\n",
      "\n",
      "encoding is the name of the encoding used to decode or encode the file. This should only be used in text mode. The default encoding is platform dependent, but any encoding supported by Python can be passed. See the codecs module for the list of supported encodings.\n",
      "\n",
      "errors is an optional string that specifies how encoding errors are to be handled---this argument should not be used in binary mode. Pass 'strict' to raise a ValueError exception if there is an encoding error (the default of None has the same effect), or pass 'ignore' to ignore errors. (Note that ignoring encoding errors can lead to data loss.) See the documentation for codecs.register or run 'help(codecs.Codec)' for a list of the permitted encoding error strings.\n",
      "\n",
      "newline controls how universal newlines works (it only applies to text mode). It can be None, '', '\n",
      "', '\n",
      "', and '\n",
      "\n",
      "'. It works as follows:\n",
      "\n",
      "On input, if newline is None, universal newlines mode is enabled. Lines in the input can end in '\n",
      "', '\n",
      "', or '\n",
      "\n",
      "', and these are translated into '\n",
      "' before being returned to the caller. If it is '', universal newline mode is enabled, but line endings are returned to the caller untranslated. If it has any of the other legal values, input lines are only terminated by the given string, and the line ending is returned to the caller untranslated.\n",
      "\n",
      "On output, if newline is None, any '\n",
      "' characters written are translated to the system default line separator, os.linesep. If newline is '' or , no translation takes place. If newline is any of the other legal values, any  characters written are translated to the given string.\n",
      "\n",
      "\n"
     ]
    }
   ],
   "source": [
    "file = open('demo.pdf','r')\n",
    "print(file.read())\n",
    "file.close()"
   ]
  },
  {
   "cell_type": "code",
   "execution_count": 9,
   "metadata": {},
   "outputs": [],
   "source": [
    "file = open('demo.txt','a')\n",
    "file.write('\\nPython is fun')\n",
    "file.close()"
   ]
  },
  {
   "cell_type": "code",
   "execution_count": 10,
   "metadata": {},
   "outputs": [
    {
     "name": "stdout",
     "output_type": "stream",
     "text": [
      "Python distinguishes between files opened in binary and text modes, even when the underlying operating system doesn't. Files opened in binary mode (appending 'b' to the mode argument) return contents as bytes objects without any decoding. In text mode (the default, or when 't' is appended to the mode argument), the contents of the file are returned as strings, the bytes having been first decoded using a platform-dependent encoding or using the specified encoding if given.\n",
      "\n",
      "'U' mode is deprecated and will raise an exception in future versions of Python. It has no effect in Python 3. Use newline to control universal newlines mode.\n",
      "\n",
      "buffering is an optional integer used to set the buffering policy. Pass 0 to switch buffering off (only allowed in binary mode), 1 to select line buffering (only usable in text mode), and an integer > 1 to indicate the size of a fixed-size chunk buffer. When no buffering argument is given, the default buffering policy works as follows:\n",
      "\n",
      "Binary files are buffered in fixed-size chunks; the size of the buffer is chosen using a heuristic trying to determine the underlying device's \"block size\" and falling back on io.DEFAULT_BUFFER_SIZE. On many systems, the buffer will typically be 4096 or 8192 bytes long.\n",
      "\n",
      "\"Interactive\" text files (files for which isatty() returns True) use line buffering. Other text files use the policy described above for binary files.\n",
      "\n",
      "encoding is the name of the encoding used to decode or encode the file. This should only be used in text mode. The default encoding is platform dependent, but any encoding supported by Python can be passed. See the codecs module for the list of supported encodings.\n",
      "\n",
      "errors is an optional string that specifies how encoding errors are to be handled---this argument should not be used in binary mode. Pass 'strict' to raise a ValueError exception if there is an encoding error (the default of None has the same effect), or pass 'ignore' to ignore errors. (Note that ignoring encoding errors can lead to data loss.) See the documentation for codecs.register or run 'help(codecs.Codec)' for a list of the permitted encoding error strings.\n",
      "\n",
      "newline controls how universal newlines works (it only applies to text mode). It can be None, '', '\n",
      "', '\n",
      "', and '\n",
      "\n",
      "'. It works as follows:\n",
      "\n",
      "On input, if newline is None, universal newlines mode is enabled. Lines in the input can end in '\n",
      "', '\n",
      "', or '\n",
      "\n",
      "', and these are translated into '\n",
      "' before being returned to the caller. If it is '', universal newline mode is enabled, but line endings are returned to the caller untranslated. If it has any of the other legal values, input lines are only terminated by the given string, and the line ending is returned to the caller untranslated.\n",
      "\n",
      "On output, if newline is None, any '\n",
      "' characters written are translated to the system default line separator, os.linesep. If newline is '' or , no translation takes place. If newline is any of the other legal values, any  characters written are translated to the given string.\n",
      "\n",
      "\n",
      "Python is fun\n"
     ]
    }
   ],
   "source": [
    "file = open('demo.txt','r+')\n",
    "print(file.read())\n",
    "file.write('\\nPython is great')\n",
    "file.close()"
   ]
  },
  {
   "cell_type": "code",
   "execution_count": 11,
   "metadata": {},
   "outputs": [
    {
     "name": "stdout",
     "output_type": "stream",
     "text": [
      "Numbers of words which lenght is ranging from 1 - 5 is 324\n",
      "Numbers of words which lenght is ranging from 6 - 10 is 176\n",
      "Numbers of words which lenght is ranging from 11 - 20 is 11\n",
      "Numbers of words which lenght is above 20 is 1\n"
     ]
    }
   ],
   "source": [
    "try:\n",
    "    file = open('demo.doc','r')\n",
    "    content = file.read()\n",
    "    splitcontent = content.split()\n",
    "except FileNotFoundError:\n",
    "    print('File does not exist')\n",
    "else:\n",
    "    one_to_five = 0\n",
    "    six_to_10 = 0\n",
    "    eleven_to_twenty = 0\n",
    "    others = 0\n",
    "    for word in splitcontent:\n",
    "        if len(word) >= 1 and len(word) <= 5:\n",
    "            one_to_five +=1\n",
    "        elif len(word) >= 6 and len(word) <= 10:\n",
    "            six_to_10 +=1\n",
    "        elif len(word) >= 11 and len(word) <= 20:\n",
    "            eleven_to_twenty +=1\n",
    "        else:\n",
    "            others +=1\n",
    "finally:\n",
    "    print(f'Numbers of words which lenght is ranging from 1 - 5 is {one_to_five}')\n",
    "    print(f'Numbers of words which lenght is ranging from 6 - 10 is {six_to_10}')\n",
    "    print(f'Numbers of words which lenght is ranging from 11 - 20 is {eleven_to_twenty}')\n",
    "    print(f'Numbers of words which lenght is above 20 is {others}')\n",
    "    "
   ]
  },
  {
   "cell_type": "code",
   "execution_count": null,
   "metadata": {},
   "outputs": [],
   "source": []
  }
 ],
 "metadata": {
  "kernelspec": {
   "display_name": "Python 3.10.4 64-bit",
   "language": "python",
   "name": "python3"
  },
  "language_info": {
   "codemirror_mode": {
    "name": "ipython",
    "version": 3
   },
   "file_extension": ".py",
   "mimetype": "text/x-python",
   "name": "python",
   "nbconvert_exporter": "python",
   "pygments_lexer": "ipython3",
   "version": "3.10.4"
  },
  "orig_nbformat": 4,
  "vscode": {
   "interpreter": {
    "hash": "97a318a1c10ea3cad32b5f740e8bef65bce9a717407c951d39899fa160feabd9"
   }
  }
 },
 "nbformat": 4,
 "nbformat_minor": 2
}
