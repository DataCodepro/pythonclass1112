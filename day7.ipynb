{
 "cells": [
  {
   "cell_type": "code",
   "execution_count": null,
   "metadata": {},
   "outputs": [],
   "source": [
    "# EXERCISE\n",
    "# 1. WRITE A PYTHON PROGRAM TO FIND THOSE NUMBERS WHICH ARE DIVISIBLE  BY 7 AND 5 BETWEEN 1500 AND 2700 (BOTH INCLUDED)\n",
    "# 2. WRITE A PYTHON PROGRAM TO  COUNT THE NUMBER OF EVEN AND ODD NUMBER IN THE GIVEN SERIES (1,2,8,9,6,4,7,8,10,11,12,15,14,18)\n",
    "# 3. WRITE  A PYTHON PROGRAM THAT ACCEPT  A STRING AND CALCULATE THE NUMBER OF DIGIT AND LETTER\n",
    "# 4. WRITE A PYTHON PROGRAM TO CHECK THE VALIDITY OF A PASSWORD BASED ON THE FOLLOWING REQUIMENT I.ATLEASET A UPPER AND A LOWER CASE LETTER II. A DIGIT, III.ANY OF THIS CHARACTER[$@#] IV. MINIMUM LENGHT OF 8 V. MAXIMUM LENGHT OF 16"
   ]
  },
  {
   "cell_type": "code",
   "execution_count": 2,
   "metadata": {},
   "outputs": [
    {
     "name": "stdout",
     "output_type": "stream",
     "text": [
      "1505,1540,1575,1610,1645,1680,1715,1750,1785,1820,1855,1890,1925,1960,1995,2030,2065,2100,2135,2170,2205,2240,2275,2310,2345,2380,2415,2450,2485,2520,2555,2590,2625,2660,2695\n"
     ]
    }
   ],
   "source": [
    "#NUMBER 1\n",
    "output = []\n",
    "for x in range(1500,2701):\n",
    "    if(x % 7 ==0) and (x %5 == 0):\n",
    "        output.append(str(x))\n",
    "print(','.join(output))"
   ]
  },
  {
   "cell_type": "code",
   "execution_count": 3,
   "metadata": {},
   "outputs": [
    {
     "name": "stdout",
     "output_type": "stream",
     "text": [
      "Numbers of even numbers : 9\n",
      "Numbers of odd numbers :  5\n"
     ]
    }
   ],
   "source": [
    "# NUMBER 2\n",
    "numbers = (1,2,8,9,6,4,7,8,10,11,12,15,14,18)\n",
    "countodd = 0\n",
    "counteven = 0\n",
    "for x in numbers:\n",
    "    if not x % 2:\n",
    "        counteven += 1\n",
    "    else:\n",
    "        countodd += 1\n",
    "print('Numbers of even numbers :', counteven)\n",
    "print('Numbers of odd numbers : ', countodd)"
   ]
  },
  {
   "cell_type": "code",
   "execution_count": 5,
   "metadata": {},
   "outputs": [
    {
     "name": "stdout",
     "output_type": "stream",
     "text": [
      "Letters : 18\n",
      "Digits : 6\n"
     ]
    }
   ],
   "source": [
    "#NUMBER 3\n",
    "string = input('INPUT A STRING:')\n",
    "digit  = 0\n",
    "letter = 0\n",
    "for x in string:\n",
    "    if x.isdigit():\n",
    "        digit +=1\n",
    "    elif x.isalpha():\n",
    "        letter +=1\n",
    "    else:\n",
    "        pass\n",
    "print('Letters :', letter)\n",
    "print('Digits :', digit)"
   ]
  },
  {
   "cell_type": "code",
   "execution_count": 8,
   "metadata": {},
   "outputs": [
    {
     "name": "stdout",
     "output_type": "stream",
     "text": [
      "Not a valid password\n"
     ]
    }
   ],
   "source": [
    "#NUMBER 4\n",
    "import re\n",
    "password = input('Input your password:')\n",
    "x = True\n",
    "while x:\n",
    "    if (len(password) <8 or len(password)>16):\n",
    "        break\n",
    "    elif not re.search('[a-z]',password):\n",
    "        break\n",
    "    elif not re.search('[A-Z]',password):\n",
    "        break\n",
    "    elif not re.search('[0-9]',password):\n",
    "        break\n",
    "    elif not re.search('[$#@]',password):\n",
    "        break\n",
    "    elif re.search('\\s',password):\n",
    "        break\n",
    "    else:\n",
    "        print('Valid Password')\n",
    "        x=False\n",
    "        break\n",
    "if x:\n",
    "    print('Not a valid password')"
   ]
  },
  {
   "cell_type": "code",
   "execution_count": 9,
   "metadata": {},
   "outputs": [
    {
     "data": {
      "text/plain": [
       "102"
      ]
     },
     "execution_count": 9,
     "metadata": {},
     "output_type": "execute_result"
    }
   ],
   "source": [
    "(lambda x,y,z: x +y +z)(45,45,12)"
   ]
  },
  {
   "cell_type": "code",
   "execution_count": 11,
   "metadata": {},
   "outputs": [
    {
     "data": {
      "text/plain": [
       "'Valid password'"
      ]
     },
     "execution_count": 11,
     "metadata": {},
     "output_type": "execute_result"
    }
   ],
   "source": [
    "(lambda userpassword: 'Valid password' if len(userpassword) >= 8 else 'invalid Password')(input('Provide your password'))"
   ]
  },
  {
   "cell_type": "code",
   "execution_count": 13,
   "metadata": {},
   "outputs": [
    {
     "name": "stdout",
     "output_type": "stream",
     "text": [
      "['BINGO', 'BATTY', 'ROCKY', 'BECKY', 'SPACKY']\n"
     ]
    }
   ],
   "source": [
    "dognames = ['bingo','batty','rocky','becky','spacky']\n",
    "updatedognames = list(map(lambda x: x.upper(),dognames))\n",
    "print(updatedognames)"
   ]
  },
  {
   "cell_type": "code",
   "execution_count": 15,
   "metadata": {},
   "outputs": [
    {
     "name": "stdout",
     "output_type": "stream",
     "text": [
      "[1.0, 1.4142135623730951, 2.8284271247461903, 3.0, 2.449489742783178, 2.0, 2.6457513110645907, 2.8284271247461903, 3.1622776601683795, 3.3166247903554, 3.4641016151377544, 3.872983346207417, 3.7416573867739413, 4.242640687119285]\n"
     ]
    }
   ],
   "source": [
    "import math\n",
    "unumbers = list(map(lambda x: math.sqrt(x),numbers))\n",
    "print(unumbers)"
   ]
  },
  {
   "cell_type": "code",
   "execution_count": 18,
   "metadata": {},
   "outputs": [
    {
     "name": "stdout",
     "output_type": "stream",
     "text": [
      "[1, 9, 7, 11, 15]\n"
     ]
    }
   ],
   "source": [
    "odd = list(filter(lambda x: x % 2 == 1,numbers))\n",
    "print(odd)"
   ]
  },
  {
   "cell_type": "code",
   "execution_count": null,
   "metadata": {},
   "outputs": [],
   "source": []
  }
 ],
 "metadata": {
  "kernelspec": {
   "display_name": "Python 3.10.4 64-bit",
   "language": "python",
   "name": "python3"
  },
  "language_info": {
   "codemirror_mode": {
    "name": "ipython",
    "version": 3
   },
   "file_extension": ".py",
   "mimetype": "text/x-python",
   "name": "python",
   "nbconvert_exporter": "python",
   "pygments_lexer": "ipython3",
   "version": "3.10.4"
  },
  "orig_nbformat": 4,
  "vscode": {
   "interpreter": {
    "hash": "97a318a1c10ea3cad32b5f740e8bef65bce9a717407c951d39899fa160feabd9"
   }
  }
 },
 "nbformat": 4,
 "nbformat_minor": 2
}
