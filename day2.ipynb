{
 "cells": [
  {
   "cell_type": "code",
   "execution_count": 1,
   "id": "818bff20",
   "metadata": {},
   "outputs": [
    {
     "name": "stdout",
     "output_type": "stream",
     "text": [
      "12\n"
     ]
    }
   ],
   "source": [
    "num1 = int(12.65)\n",
    "print(num1)"
   ]
  },
  {
   "cell_type": "code",
   "execution_count": 2,
   "id": "5ff7ad42",
   "metadata": {},
   "outputs": [
    {
     "name": "stdout",
     "output_type": "stream",
     "text": [
      "12\n"
     ]
    }
   ],
   "source": [
    "print(str(num1))"
   ]
  },
  {
   "cell_type": "markdown",
   "id": "9ac33dde",
   "metadata": {},
   "source": [
    "# CONVERT THIS TO FLOAT AND STRING 45,85,90\n",
    "# CONVERT THIS TO INTEGER AND STRING 45.36,80.25,90.36\n",
    "# CONVERT THIS TO INTEGER AND FLOAT '70','89','77'"
   ]
  },
  {
   "cell_type": "markdown",
   "id": "fd134c49",
   "metadata": {},
   "source": [
    "#### INPUT FUNCTION"
   ]
  },
  {
   "cell_type": "code",
   "execution_count": 3,
   "id": "d22f2de1",
   "metadata": {},
   "outputs": [
    {
     "name": "stdout",
     "output_type": "stream",
     "text": [
      "Please provide your nameSimeon\n"
     ]
    }
   ],
   "source": [
    "name = input('Please provide your name')"
   ]
  },
  {
   "cell_type": "code",
   "execution_count": 6,
   "id": "16a82d8c",
   "metadata": {},
   "outputs": [
    {
     "name": "stdout",
     "output_type": "stream",
     "text": [
      "Provide your age: 45\n"
     ]
    }
   ],
   "source": [
    "age = int(input('Provide your age: '))"
   ]
  },
  {
   "cell_type": "code",
   "execution_count": 7,
   "id": "438d89df",
   "metadata": {},
   "outputs": [
    {
     "name": "stdout",
     "output_type": "stream",
     "text": [
      "Provide your age:45\n"
     ]
    }
   ],
   "source": [
    "age2 = float(input('Provide your age:'))"
   ]
  },
  {
   "cell_type": "markdown",
   "id": "3ff44bcf",
   "metadata": {},
   "source": [
    "## OPERATORS"
   ]
  },
  {
   "cell_type": "markdown",
   "id": "9faccd41",
   "metadata": {},
   "source": [
    "#### ARITHIMETIC OPERATORS"
   ]
  },
  {
   "cell_type": "code",
   "execution_count": 10,
   "id": "1e9fe054",
   "metadata": {},
   "outputs": [
    {
     "name": "stdout",
     "output_type": "stream",
     "text": [
      "Provide the first number: 20\n",
      "Provide the second number: 10\n",
      "20 + 10 = 30\n",
      "20 - 10 = 10\n",
      "20 * 10 = 200\n",
      "20 / 10 = 2.0\n",
      "20 % 10 = 0\n",
      "20 // 10 = 2\n",
      "20 ** 10 = 10240000000000\n"
     ]
    }
   ],
   "source": [
    "num1 = int(input('Provide the first number: '))\n",
    "num2 = int(input('Provide the second number: '))\n",
    "print(f'{num1} + {num2} = {num1 + num2}')\n",
    "print(f'{num1} - {num2} = {num1 - num2}')\n",
    "print(f'{num1} * {num2} = {num1 * num2}')\n",
    "print(f'{num1} / {num2} = {num1 / num2}')\n",
    "print(f'{num1} % {num2} = {num1 % num2}')\n",
    "print(f'{num1} // {num2} = {num1 // num2}')\n",
    "print(f'{num1} ** {num2} = {num1 ** num2}')"
   ]
  },
  {
   "cell_type": "markdown",
   "id": "a5a7695c",
   "metadata": {},
   "source": [
    "### COMPARISM OPERATORS"
   ]
  },
  {
   "cell_type": "code",
   "execution_count": 11,
   "id": "4b0a2d5b",
   "metadata": {},
   "outputs": [
    {
     "name": "stdout",
     "output_type": "stream",
     "text": [
      "Provide the first number: 50\n",
      "Provide the second number: 25\n",
      "50 > 25 = True\n",
      "50 < 25 = False\n",
      "50 >= 25 = True\n",
      "50 <= 25 = False\n",
      "50 == 25 = False\n",
      "50 != 25 = True\n"
     ]
    }
   ],
   "source": [
    "num1 = int(input('Provide the first number: '))\n",
    "num2 = int(input('Provide the second number: '))\n",
    "print(f'{num1} > {num2} = {num1 > num2}')\n",
    "print(f'{num1} < {num2} = {num1 < num2}')\n",
    "print(f'{num1} >= {num2} = {num1 >= num2}')\n",
    "print(f'{num1} <= {num2} = {num1 <= num2}')\n",
    "print(f'{num1} == {num2} = {num1 == num2}')\n",
    "print(f'{num1} != {num2} = {num1 != num2}')"
   ]
  },
  {
   "cell_type": "markdown",
   "id": "5ed3a93e",
   "metadata": {},
   "source": [
    "### LOGICAL OPERATOR"
   ]
  },
  {
   "cell_type": "code",
   "execution_count": 12,
   "id": "152196c7",
   "metadata": {},
   "outputs": [
    {
     "name": "stdout",
     "output_type": "stream",
     "text": [
      "Provide the first number: 25\n",
      "Provide the second number: 85\n",
      "25 > 85 and 25 != 85 = False\n",
      "25 > 85 or 25 != 85 = True\n"
     ]
    }
   ],
   "source": [
    "num1 = int(input('Provide the first number: '))\n",
    "num2 = int(input('Provide the second number: '))\n",
    "print(f'{num1} > {num2} and {num1} != {num2} = {num1 > num2 and num1 != num2}')\n",
    "print(f'{num1} > {num2} or {num1} != {num2} = {num1 > num2 or num1 != num2}')"
   ]
  },
  {
   "cell_type": "markdown",
   "id": "0f209ac2",
   "metadata": {},
   "source": [
    "### IDENTITY OPERATOR"
   ]
  },
  {
   "cell_type": "code",
   "execution_count": 13,
   "id": "dce30f1b",
   "metadata": {},
   "outputs": [
    {
     "name": "stdout",
     "output_type": "stream",
     "text": [
      "Provide the first number: 20\n",
      "Provide the second number: 20\n",
      "True\n",
      "False\n"
     ]
    }
   ],
   "source": [
    "num1 = int(input('Provide the first number: '))\n",
    "num2 = int(input('Provide the second number: '))\n",
    "print(num1 is num2)\n",
    "print(num1 is not num2)"
   ]
  },
  {
   "cell_type": "markdown",
   "id": "62f3379f",
   "metadata": {},
   "source": [
    "### MEMBERSHIP OPERATOR"
   ]
  },
  {
   "cell_type": "code",
   "execution_count": 14,
   "id": "7cf1796c",
   "metadata": {},
   "outputs": [
    {
     "name": "stdout",
     "output_type": "stream",
     "text": [
      "Please provide a word: Python\n",
      "False\n",
      "False\n"
     ]
    }
   ],
   "source": [
    "course = input('Please provide a word: ')\n",
    "print('S' in course)\n",
    "print('t' not in course)"
   ]
  },
  {
   "cell_type": "code",
   "execution_count": 15,
   "id": "d2b2ac4b",
   "metadata": {},
   "outputs": [
    {
     "name": "stdout",
     "output_type": "stream",
     "text": [
      "Provide pen quantity: 450\n",
      "Job's profit on 450 pen is 22500\n"
     ]
    }
   ],
   "source": [
    "# JOB BOUGHT N PEN AT THE RATE OF 50 NAIRA EACH AND SOLD THE PEN AT THE RATE OF 100 EACH \n",
    "# CALCULATE JOB'S PROFIT\n",
    "quantity = int(input('Provide pen quantity: '))\n",
    "cost = 50 * quantity\n",
    "selling = 100 * quantity\n",
    "profit = selling - cost\n",
    "print(f'Job\\'s profit on {quantity} pen is {profit}' )"
   ]
  },
  {
   "cell_type": "code",
   "execution_count": null,
   "id": "7e6e1f33",
   "metadata": {},
   "outputs": [],
   "source": []
  }
 ],
 "metadata": {
  "kernelspec": {
   "display_name": "Python 3 (ipykernel)",
   "language": "python",
   "name": "python3"
  },
  "language_info": {
   "codemirror_mode": {
    "name": "ipython",
    "version": 3
   },
   "file_extension": ".py",
   "mimetype": "text/x-python",
   "name": "python",
   "nbconvert_exporter": "python",
   "pygments_lexer": "ipython3",
   "version": "3.9.12"
  }
 },
 "nbformat": 4,
 "nbformat_minor": 5
}
