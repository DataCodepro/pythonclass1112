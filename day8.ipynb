{
 "cells": [
  {
   "cell_type": "code",
   "execution_count": 1,
   "metadata": {},
   "outputs": [
    {
     "data": {
      "text/plain": [
       "'Male'"
      ]
     },
     "execution_count": 1,
     "metadata": {},
     "output_type": "execute_result"
    }
   ],
   "source": [
    "class person:\n",
    "    attr1 = 'Male'\n",
    "    attr2 = 'Dark'\n",
    "obj = person()\n",
    "obj.attr1"
   ]
  },
  {
   "cell_type": "code",
   "execution_count": 2,
   "metadata": {},
   "outputs": [
    {
     "name": "stdout",
     "output_type": "stream",
     "text": [
      "i can talk\n"
     ]
    }
   ],
   "source": [
    "class person:\n",
    "    attr1 = 'Male'\n",
    "    attr2 = 'Dark'\n",
    "    def talk(self):\n",
    "        print('i can talk')\n",
    "obj = person()\n",
    "obj.talk()"
   ]
  },
  {
   "cell_type": "code",
   "execution_count": 9,
   "metadata": {},
   "outputs": [],
   "source": [
    "class carsimulation:\n",
    "    def __init__(self,brand,model,color,year,speed):\n",
    "        self.brand = brand\n",
    "        self.model = model\n",
    "        self.color = color\n",
    "        self.year = year\n",
    "        self.speed = speed\n",
    "    def start(self):\n",
    "        print(f'{self.brand} {self.model} has started')\n",
    "    def changegear(self):\n",
    "        gearoption = input('Choose gear option:')\n",
    "        if gearoption == '1':\n",
    "            print('Gear placed on 1')\n",
    "        elif gearoption == '2':\n",
    "            print('Gear placed on 2')\n",
    "        elif gearoption == '3':\n",
    "            print('Gear placed on 3')\n",
    "        elif gearoption == '4':\n",
    "            print('Gear placed on 4')\n",
    "        elif gearoption == '5':\n",
    "            print('Gear placed on 5')\n",
    "        elif gearoption == 'R':\n",
    "            print('Gear placed on Reverse')\n",
    "    def accelerate(self,option):\n",
    "        if option == 1:\n",
    "            print('Nitro engaged')\n",
    "        elif option == 2:\n",
    "            print('Nitro disengaged')\n",
    "        else:\n",
    "            print('Invalid Nitro Option')\n",
    "    def stop(self):\n",
    "        print(f'{self.brand} {self.model} has stopped, GAME OVER!!!!!!!!!!!!!!')\n",
    "        \n",
    "car1 = carsimulation('Audi','A6','yellow',2019,200)\n",
    "car2 = carsimulation('Lambogini','Gallardo','black',2021,350)"
   ]
  },
  {
   "cell_type": "code",
   "execution_count": 5,
   "metadata": {},
   "outputs": [
    {
     "name": "stdout",
     "output_type": "stream",
     "text": [
      "Lambogini Gallardo has started\n",
      "None\n"
     ]
    }
   ],
   "source": [
    "print(car2.start())"
   ]
  },
  {
   "cell_type": "code",
   "execution_count": 7,
   "metadata": {},
   "outputs": [
    {
     "name": "stdout",
     "output_type": "stream",
     "text": [
      "Nitro engaged\n",
      "None\n"
     ]
    }
   ],
   "source": [
    "print(car2.accelerate(1))"
   ]
  },
  {
   "cell_type": "code",
   "execution_count": 10,
   "metadata": {},
   "outputs": [
    {
     "name": "stdout",
     "output_type": "stream",
     "text": [
      "Lambogini Gallardo has stopped, GAME OVER!!!!!!!!!!!!!!\n"
     ]
    }
   ],
   "source": [
    "car2.stop()"
   ]
  },
  {
   "cell_type": "code",
   "execution_count": 11,
   "metadata": {},
   "outputs": [],
   "source": [
    "class carsimulation2(carsimulation):\n",
    "    def openroof(self,option):\n",
    "        if option == 1:\n",
    "            print('Roof opened')\n",
    "        elif option == 2:\n",
    "            print('Roof closed')\n",
    "        else:\n",
    "            print('Invalid roof option')\n",
    "car3 = carsimulation2('Ferrari','Hotbold','Blue',2022,600)"
   ]
  },
  {
   "cell_type": "code",
   "execution_count": 12,
   "metadata": {},
   "outputs": [
    {
     "name": "stdout",
     "output_type": "stream",
     "text": [
      "Ferrari Hotbold has started\n"
     ]
    }
   ],
   "source": [
    "car3.start()"
   ]
  },
  {
   "cell_type": "code",
   "execution_count": 13,
   "metadata": {},
   "outputs": [
    {
     "ename": "AttributeError",
     "evalue": "'carsimulation' object has no attribute 'openroof'",
     "output_type": "error",
     "traceback": [
      "\u001b[1;31m---------------------------------------------------------------------------\u001b[0m",
      "\u001b[1;31mAttributeError\u001b[0m                            Traceback (most recent call last)",
      "\u001b[1;32mc:\\Users\\Simeon\\Documents\\pythonprogramm\\pythonclass1112\\day8.ipynb Cell 9\u001b[0m in \u001b[0;36m<cell line: 1>\u001b[1;34m()\u001b[0m\n\u001b[1;32m----> <a href='vscode-notebook-cell:/c%3A/Users/Simeon/Documents/pythonprogramm/pythonclass1112/day8.ipynb#X11sZmlsZQ%3D%3D?line=0'>1</a>\u001b[0m car2\u001b[39m.\u001b[39;49mopenroof(\u001b[39m2\u001b[39m)\n",
      "\u001b[1;31mAttributeError\u001b[0m: 'carsimulation' object has no attribute 'openroof'"
     ]
    }
   ],
   "source": [
    "car2.openroof(2)"
   ]
  },
  {
   "cell_type": "code",
   "execution_count": 17,
   "metadata": {},
   "outputs": [
    {
     "name": "stdout",
     "output_type": "stream",
     "text": [
      "LIST OPERATIONS\n",
      "accept\n",
      "display\n",
      "pricechecker\n",
      "bmi\n",
      "NAME:Priase Diamond\n",
      "GENDER:Female\n",
      "AGE:45\n",
      "WEIGHT:80.0\n",
      "HEIGHT:1.85\n",
      "COUNTRY:Ghana\n",
      "CONTINENT:Africa\n",
      "\n",
      "Your BMI is Normal continue your diet\n"
     ]
    }
   ],
   "source": [
    "class BODYMASSINDEXCHECKER:\n",
    "    def __init__(self,name,gender,age,weight,height,country,continent):\n",
    "        self.name = name\n",
    "        self.gender = gender\n",
    "        self.age= age\n",
    "        self.weight = weight\n",
    "        self.height = height\n",
    "        self.country = country\n",
    "        self.continent = continent\n",
    "    def accept(self,NAME,GENDER,AGE,WEIGHT,HEIGHT,COUNTRY,CONTINENT):\n",
    "        ob = BODYMASSINDEXCHECKER(NAME,GENDER,AGE,WEIGHT,HEIGHT,COUNTRY,CONTINENT)\n",
    "        customerlist.append(ob)\n",
    "    def display(self,ob):\n",
    "        print(f'''NAME:{ob.name}\n",
    "GENDER:{ob.gender}\n",
    "AGE:{ob.age}\n",
    "WEIGHT:{ob.weight}\n",
    "HEIGHT:{ob.height}\n",
    "COUNTRY:{ob.country}\n",
    "CONTINENT:{ob.continent}\n",
    "''')\n",
    "    def pricechecker(self):\n",
    "        option = input('Please provide your continent once again:')\n",
    "        if option == 'Africa':\n",
    "            print('Your charges is $40')\n",
    "        elif option == 'Asia':\n",
    "            print('Your charges is $60')\n",
    "        elif option == 'Europe':\n",
    "            print('Your charges is $50')\n",
    "        elif option == 'South America':\n",
    "            print('Your charges is $60')\n",
    "        elif option == 'North America':\n",
    "            print('Your charges is $55')\n",
    "    def bmi(self):\n",
    "        weight = float(input('Please provide your weight in kg:'))\n",
    "        height = float(input('Provide your height in meters'))\n",
    "        BMI = (weight/(height**2))\n",
    "        if BMI <18.5:\n",
    "            print('You are underweight kindly see a doctor Immediately')\n",
    "        elif BMI >=18.5 and BMI <=24.99:\n",
    "            print('Your BMI is Normal continue your diet')\n",
    "        elif BMI >=25 and BMI <=29.99:\n",
    "            print('Your are Overweight see the doctor for neccessary measures')\n",
    "        else:\n",
    "            print('You are Obess kindly see the doctor Immediately')\n",
    "customerlist = []\n",
    "obj = BODYMASSINDEXCHECKER('','',0,0,0,'','')\n",
    "print('LIST OPERATIONS\\naccept\\ndisplay\\npricechecker\\nbmi')\n",
    "operation = input('Enter y as yes to perform operation and n as no to terminate operation')\n",
    "counter = 1\n",
    "while operation == 'y':\n",
    "    option = input('Enter operation option:')\n",
    "    if option == 'accept':\n",
    "        obj.accept(input('Customer Name'),input('Customer Gender'),int(input('Customer Age')),float(input('Customer Weight')),float(input('Customer Height')),input('Customer Country'),input('Customer Continent'))\n",
    "        \n",
    "    elif option == 'display':\n",
    "        for i in range(len(customerlist)):\n",
    "            obj.display(customerlist[i])\n",
    "    elif option == 'pricechecker':\n",
    "        obj.pricechecker()\n",
    "    elif option == 'bmi':\n",
    "        obj.bmi()\n",
    "    operation = input('Enter y as yes to perform operation and n as no to terminate operation')\n",
    "    counter = counter+1"
   ]
  },
  {
   "cell_type": "code",
   "execution_count": null,
   "metadata": {},
   "outputs": [],
   "source": []
  }
 ],
 "metadata": {
  "kernelspec": {
   "display_name": "Python 3.10.4 64-bit",
   "language": "python",
   "name": "python3"
  },
  "language_info": {
   "codemirror_mode": {
    "name": "ipython",
    "version": 3
   },
   "file_extension": ".py",
   "mimetype": "text/x-python",
   "name": "python",
   "nbconvert_exporter": "python",
   "pygments_lexer": "ipython3",
   "version": "3.10.4"
  },
  "orig_nbformat": 4,
  "vscode": {
   "interpreter": {
    "hash": "97a318a1c10ea3cad32b5f740e8bef65bce9a717407c951d39899fa160feabd9"
   }
  }
 },
 "nbformat": 4,
 "nbformat_minor": 2
}
