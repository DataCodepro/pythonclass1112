{
 "cells": [
  {
   "cell_type": "markdown",
   "id": "1862c515",
   "metadata": {},
   "source": [
    "# Modules and Conditional Statement"
   ]
  },
  {
   "cell_type": "code",
   "execution_count": 2,
   "id": "525533c4",
   "metadata": {},
   "outputs": [
    {
     "name": "stdout",
     "output_type": "stream",
     "text": [
      "['__doc__', '__loader__', '__name__', '__package__', '__spec__', 'acos', 'acosh', 'asin', 'asinh', 'atan', 'atan2', 'atanh', 'ceil', 'comb', 'copysign', 'cos', 'cosh', 'degrees', 'dist', 'e', 'erf', 'erfc', 'exp', 'expm1', 'fabs', 'factorial', 'floor', 'fmod', 'frexp', 'fsum', 'gamma', 'gcd', 'hypot', 'inf', 'isclose', 'isfinite', 'isinf', 'isnan', 'isqrt', 'lcm', 'ldexp', 'lgamma', 'log', 'log10', 'log1p', 'log2', 'modf', 'nan', 'nextafter', 'perm', 'pi', 'pow', 'prod', 'radians', 'remainder', 'sin', 'sinh', 'sqrt', 'tan', 'tanh', 'tau', 'trunc', 'ulp']\n"
     ]
    }
   ],
   "source": [
    "import math\n",
    "print(dir(math))"
   ]
  },
  {
   "cell_type": "code",
   "execution_count": 3,
   "id": "e1d7f85f",
   "metadata": {},
   "outputs": [
    {
     "name": "stdout",
     "output_type": "stream",
     "text": [
      "16\n"
     ]
    }
   ],
   "source": [
    "num = 15.58\n",
    "print(math.ceil(num))#ceil will round up and return an integer value"
   ]
  },
  {
   "cell_type": "code",
   "execution_count": 4,
   "id": "c7692d61",
   "metadata": {},
   "outputs": [
    {
     "name": "stdout",
     "output_type": "stream",
     "text": [
      "15\n"
     ]
    }
   ],
   "source": [
    "print(math.floor(num))#floor will round off and return an integer value"
   ]
  },
  {
   "cell_type": "code",
   "execution_count": 5,
   "id": "75d65cbd",
   "metadata": {},
   "outputs": [
    {
     "name": "stdout",
     "output_type": "stream",
     "text": [
      "['Counter', 'Decimal', 'Fraction', 'NormalDist', 'StatisticsError', '__all__', '__builtins__', '__cached__', '__doc__', '__file__', '__loader__', '__name__', '__package__', '__spec__', '_coerce', '_convert', '_exact_ratio', '_fail_neg', '_find_lteq', '_find_rteq', '_isfinite', '_normal_dist_inv_cdf', '_ss', '_sum', 'bisect_left', 'bisect_right', 'erf', 'exp', 'fabs', 'fmean', 'fsum', 'geometric_mean', 'groupby', 'harmonic_mean', 'hypot', 'itemgetter', 'log', 'math', 'mean', 'median', 'median_grouped', 'median_high', 'median_low', 'mode', 'multimode', 'numbers', 'pstdev', 'pvariance', 'quantiles', 'random', 'sqrt', 'stdev', 'tau', 'variance']\n"
     ]
    }
   ],
   "source": [
    "import statistics as stat\n",
    "print(dir(stat))"
   ]
  },
  {
   "cell_type": "code",
   "execution_count": 9,
   "id": "60b82106",
   "metadata": {},
   "outputs": [
    {
     "name": "stdout",
     "output_type": "stream",
     "text": [
      "78.78\n"
     ]
    }
   ],
   "source": [
    "score = [85,90,82,80,90,65,60,78,79]\n",
    "print(round(stat.mean(score),2))"
   ]
  },
  {
   "cell_type": "code",
   "execution_count": 10,
   "id": "8335ac58",
   "metadata": {},
   "outputs": [
    {
     "name": "stdout",
     "output_type": "stream",
     "text": [
      "80\n"
     ]
    }
   ],
   "source": [
    "print(stat.median(score))"
   ]
  },
  {
   "cell_type": "code",
   "execution_count": 11,
   "id": "75085dd5",
   "metadata": {},
   "outputs": [
    {
     "name": "stdout",
     "output_type": "stream",
     "text": [
      "['BPF', 'LOG4', 'NV_MAGICCONST', 'RECIP_BPF', 'Random', 'SG_MAGICCONST', 'SystemRandom', 'TWOPI', '_Sequence', '_Set', '__all__', '__builtins__', '__cached__', '__doc__', '__file__', '__loader__', '__name__', '__package__', '__spec__', '_accumulate', '_acos', '_bisect', '_ceil', '_cos', '_e', '_exp', '_floor', '_inst', '_log', '_os', '_pi', '_random', '_repeat', '_sha512', '_sin', '_sqrt', '_test', '_test_generator', '_urandom', '_warn', 'betavariate', 'choice', 'choices', 'expovariate', 'gammavariate', 'gauss', 'getrandbits', 'getstate', 'lognormvariate', 'normalvariate', 'paretovariate', 'randbytes', 'randint', 'random', 'randrange', 'sample', 'seed', 'setstate', 'shuffle', 'triangular', 'uniform', 'vonmisesvariate', 'weibullvariate']\n"
     ]
    }
   ],
   "source": [
    "import random\n",
    "print(dir(random))"
   ]
  },
  {
   "cell_type": "code",
   "execution_count": 12,
   "id": "0285306f",
   "metadata": {},
   "outputs": [
    {
     "data": {
      "text/plain": [
       "46"
      ]
     },
     "execution_count": 12,
     "metadata": {},
     "output_type": "execute_result"
    }
   ],
   "source": [
    "random.randint(14,85)"
   ]
  },
  {
   "cell_type": "code",
   "execution_count": 14,
   "id": "63de4121",
   "metadata": {},
   "outputs": [
    {
     "data": {
      "text/plain": [
       "90"
      ]
     },
     "execution_count": 14,
     "metadata": {},
     "output_type": "execute_result"
    }
   ],
   "source": [
    "random.choice(score)"
   ]
  },
  {
   "cell_type": "code",
   "execution_count": 16,
   "id": "69267ab1",
   "metadata": {},
   "outputs": [
    {
     "name": "stdout",
     "output_type": "stream",
     "text": [
      "Please provide your age:14\n",
      "Sorry our Academy only accept 18 years upward\n"
     ]
    }
   ],
   "source": [
    "age = int(input('Please provide your age:'))\n",
    "if age <=17:\n",
    "    print('Sorry our Academy only accept 18 years upward')"
   ]
  },
  {
   "cell_type": "code",
   "execution_count": 17,
   "id": "3facadec",
   "metadata": {},
   "outputs": [
    {
     "name": "stdout",
     "output_type": "stream",
     "text": [
      "Please provide your age:25\n",
      "Congratulations you are moving to the next stage\n"
     ]
    }
   ],
   "source": [
    "age = int(input('Please provide your age:'))\n",
    "if age <=17:\n",
    "    print('Sorry our Academy only accept 18 years upward')\n",
    "else:\n",
    "    print('Congratulations you are moving to the next stage')"
   ]
  },
  {
   "cell_type": "code",
   "execution_count": 19,
   "id": "46a903b8",
   "metadata": {},
   "outputs": [
    {
     "name": "stdout",
     "output_type": "stream",
     "text": [
      "Please provide a number:-4\n",
      "Negative or Zero outcome\n"
     ]
    }
   ],
   "source": [
    "num = int(input('Please provide a number:'))\n",
    "if num > 0:\n",
    "    print('Positive outcome')\n",
    "else:\n",
    "    print('Negative or Zero outcome')"
   ]
  },
  {
   "cell_type": "code",
   "execution_count": 21,
   "id": "07b72cfe",
   "metadata": {},
   "outputs": [
    {
     "name": "stdout",
     "output_type": "stream",
     "text": [
      "Please provide a number:4\n",
      "Positive outcome\n"
     ]
    }
   ],
   "source": [
    "num = int(input('Please provide a number:'))\n",
    "if num > 0:\n",
    "    print('Positive outcome')\n",
    "else:\n",
    "    if num < 0:\n",
    "        print('Negative Outcome')\n",
    "    else:\n",
    "        print('Outcome is Zero')"
   ]
  },
  {
   "cell_type": "code",
   "execution_count": 23,
   "id": "cf967e5f",
   "metadata": {},
   "outputs": [
    {
     "name": "stdout",
     "output_type": "stream",
     "text": [
      "ITEM WEIGHT IN KG:10\n",
      "ITEM CONDTIONnon-fragile\n",
      "Your total shipping fee is 750.0\n"
     ]
    }
   ],
   "source": [
    "weight = float(input('ITEM WEIGHT IN KG:'))\n",
    "condition = input('ITEM CONDTION')\n",
    "if weight <=10 and condition =='fragile':\n",
    "    amount = weight * 150\n",
    "    print(f'Your total shipping fee is {amount}')\n",
    "elif weight <=10 and condition == 'non-fragile':\n",
    "    amount = weight * 75\n",
    "    print(f'Your total shipping fee is {amount}')\n",
    "elif weight > 10 and condition == 'non-fragile':\n",
    "    amount = weight * 150\n",
    "    print(f'Your total shipping fee is {amount}')\n",
    "elif weight >10 and condition == 'fragile':\n",
    "    amount = weight * 300\n",
    "    print(f'Your total shipping fee is {amount}')"
   ]
  },
  {
   "cell_type": "code",
   "execution_count": null,
   "id": "2e3e6271",
   "metadata": {},
   "outputs": [],
   "source": [
    "weight = float(input('ITEM WEIGHT IN KG:'))\n",
    "condition = input('ITEM CONDTION')\n",
    "if weight <=10 and condition =='fragile':\n",
    "    amount = weight * 150\n",
    "    print(f'Your total shipping fee is {amount}')\n",
    "elif weight <=10 and condition == 'non-fragile':\n",
    "    amount = weight * 75\n",
    "    print(f'Your total shipping fee is {amount}')\n",
    "elif weight > 10 and condition == 'non-fragile':\n",
    "    amount = weight * 150\n",
    "    print(f'Your total shipping fee is {amount}')\n",
    "else:\n",
    "    amount = weight * 300\n",
    "    print(f'Your total shipping fee is {amount}') "
   ]
  }
 ],
 "metadata": {
  "kernelspec": {
   "display_name": "Python 3 (ipykernel)",
   "language": "python",
   "name": "python3"
  },
  "language_info": {
   "codemirror_mode": {
    "name": "ipython",
    "version": 3
   },
   "file_extension": ".py",
   "mimetype": "text/x-python",
   "name": "python",
   "nbconvert_exporter": "python",
   "pygments_lexer": "ipython3",
   "version": "3.9.12"
  }
 },
 "nbformat": 4,
 "nbformat_minor": 5
}
