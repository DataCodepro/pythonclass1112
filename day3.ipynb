{
 "cells": [
  {
   "cell_type": "markdown",
   "id": "587afe0b",
   "metadata": {},
   "source": [
    "# Tuple\n",
    "### Tuple is unchangeable\n",
    "### Tuple Must be ordered\n",
    "### We use the index location to access any value from the tuple\n",
    "### we denote tuple with ()"
   ]
  },
  {
   "cell_type": "code",
   "execution_count": 1,
   "id": "bc191ac7",
   "metadata": {},
   "outputs": [
    {
     "name": "stdout",
     "output_type": "stream",
     "text": [
      "<class 'tuple'>\n"
     ]
    }
   ],
   "source": [
    "numbers = (8,45,7,9,8,20,21,25,36,8,45,80,52)\n",
    "print(type(numbers))"
   ]
  },
  {
   "cell_type": "code",
   "execution_count": 2,
   "id": "3e7778a7",
   "metadata": {},
   "outputs": [
    {
     "name": "stdout",
     "output_type": "stream",
     "text": [
      "13\n"
     ]
    }
   ],
   "source": [
    "print(len(numbers))"
   ]
  },
  {
   "cell_type": "code",
   "execution_count": 3,
   "id": "b00f4752",
   "metadata": {},
   "outputs": [
    {
     "name": "stdout",
     "output_type": "stream",
     "text": [
      "8\n"
     ]
    }
   ],
   "source": [
    "print(numbers[0])#ACCESSING THE FIRST VALUE OF OUR TUPLE USING IT'S INDEX LOCATION"
   ]
  },
  {
   "cell_type": "code",
   "execution_count": 4,
   "id": "6e5d5bfc",
   "metadata": {},
   "outputs": [
    {
     "name": "stdout",
     "output_type": "stream",
     "text": [
      "21\n"
     ]
    }
   ],
   "source": [
    "print(numbers[6])#ACCESSING THE VALUE ON THE SIXTH LOCATION OF OUR TUPLE USING IT's INDEX LOCATION"
   ]
  },
  {
   "cell_type": "code",
   "execution_count": 5,
   "id": "c0d5d16a",
   "metadata": {},
   "outputs": [
    {
     "name": "stdout",
     "output_type": "stream",
     "text": [
      "52\n"
     ]
    }
   ],
   "source": [
    "print(numbers[-1])#ACCESSING THE LAST VALUE OF OUR TUPLE USING IT'S INDEX LOCATION"
   ]
  },
  {
   "cell_type": "code",
   "execution_count": 7,
   "id": "6f265486",
   "metadata": {},
   "outputs": [
    {
     "name": "stdout",
     "output_type": "stream",
     "text": [
      "(9, 8, 20, 21, 25)\n"
     ]
    }
   ],
   "source": [
    "print(numbers[3:8])#ACCESSING RANGE OF VALUES OF OUR TUPLE USING THEIR INDEX LOCATION"
   ]
  },
  {
   "cell_type": "code",
   "execution_count": 8,
   "id": "b6437a90",
   "metadata": {},
   "outputs": [
    {
     "name": "stdout",
     "output_type": "stream",
     "text": [
      "3\n"
     ]
    }
   ],
   "source": [
    "print(numbers.count(8))#RETRIVING THE FREQUENCY RATE OF A VALUE"
   ]
  },
  {
   "cell_type": "code",
   "execution_count": 9,
   "id": "170475f0",
   "metadata": {},
   "outputs": [
    {
     "name": "stdout",
     "output_type": "stream",
     "text": [
      "11\n"
     ]
    }
   ],
   "source": [
    "print(numbers.index(80))#CHECKING THE INDEX LOCATION OF A VLAUE"
   ]
  },
  {
   "cell_type": "code",
   "execution_count": 10,
   "id": "53e088c7",
   "metadata": {},
   "outputs": [
    {
     "name": "stdout",
     "output_type": "stream",
     "text": [
      "False\n"
     ]
    }
   ],
   "source": [
    "print(50 in numbers)#CHECKING IF A VALUE EXIST IN OUR ITERABLE OBJECT"
   ]
  },
  {
   "cell_type": "markdown",
   "id": "da096886",
   "metadata": {},
   "source": [
    "# LIST\n",
    "### LIST is changeable\n",
    "### List can be ordered or unordered\n",
    "### We use the index location to access any value from the list\n",
    "### we denote list with [ ]"
   ]
  },
  {
   "cell_type": "code",
   "execution_count": 11,
   "id": "74dcf42d",
   "metadata": {},
   "outputs": [],
   "source": [
    "fruits = ['Cherry','Lemon','Banana','Grape','Cashew']"
   ]
  },
  {
   "cell_type": "code",
   "execution_count": 12,
   "id": "1106cddb",
   "metadata": {},
   "outputs": [
    {
     "name": "stdout",
     "output_type": "stream",
     "text": [
      "['Cherry', 'Lemon', 'Banana', 'Grape', 'Cashew', 'Pear']\n"
     ]
    }
   ],
   "source": [
    "fruits.append('Pear')#Append will add the specified value to the end of the list\n",
    "print(fruits)"
   ]
  },
  {
   "cell_type": "code",
   "execution_count": 13,
   "id": "bccf0c4e",
   "metadata": {},
   "outputs": [
    {
     "name": "stdout",
     "output_type": "stream",
     "text": [
      "['Cherry', 'Lemon', 'Banana', 'Grape', 'Cashew', 'Pear', 'Apple', 'Grape', 'Melon', 'Grape', 'Coconut']\n"
     ]
    }
   ],
   "source": [
    "new_list = ['Apple','Grape','Melon','Grape','Coconut']\n",
    "fruits.extend(new_list)#Extend will move allthe values from one list or tuple to another list\n",
    "print(fruits)"
   ]
  },
  {
   "cell_type": "code",
   "execution_count": 14,
   "id": "8fcbb70e",
   "metadata": {},
   "outputs": [
    {
     "name": "stdout",
     "output_type": "stream",
     "text": [
      "['Cherry', 'Lemon', 'Banana', 'Grape', 'Pawpaw', 'Cashew', 'Pear', 'Apple', 'Grape', 'Melon', 'Grape', 'Coconut']\n"
     ]
    }
   ],
   "source": [
    "fruits.insert(4,'Pawpaw')#Insert will add the new value at the specified location\n",
    "print(fruits)"
   ]
  },
  {
   "cell_type": "code",
   "execution_count": 15,
   "id": "e11692fa",
   "metadata": {},
   "outputs": [
    {
     "name": "stdout",
     "output_type": "stream",
     "text": [
      "['Cherry', 'Lemon', 'Banana', 'Grape', 'Pawpaw', 'Pear', 'Apple', 'Grape', 'Melon', 'Grape', 'Coconut']\n"
     ]
    }
   ],
   "source": [
    "fruits.pop(5)#Pop will remove the value on the specified location\n",
    "print(fruits)"
   ]
  },
  {
   "cell_type": "code",
   "execution_count": 16,
   "id": "d3bcd06c",
   "metadata": {},
   "outputs": [
    {
     "name": "stdout",
     "output_type": "stream",
     "text": [
      "['Cherry', 'Lemon', 'Banana', 'Pawpaw', 'Pear', 'Apple', 'Grape', 'Melon', 'Grape', 'Coconut']\n"
     ]
    }
   ],
   "source": [
    "fruits.remove('Grape')#Remove will drop the value you specified\n",
    "print(fruits)"
   ]
  },
  {
   "cell_type": "code",
   "execution_count": 18,
   "id": "1c3d42c4",
   "metadata": {},
   "outputs": [
    {
     "name": "stdout",
     "output_type": "stream",
     "text": [
      "['Apple', 'Banana', 'Cherry', 'Coconut', 'Grape', 'Grape', 'Lemon', 'Melon', 'Pawpaw', 'Pear']\n"
     ]
    }
   ],
   "source": [
    "fruits.sort()#Sort will rearrange the values in acesending order\n",
    "print(fruits)"
   ]
  },
  {
   "cell_type": "code",
   "execution_count": 19,
   "id": "aa663bb2",
   "metadata": {},
   "outputs": [
    {
     "name": "stdout",
     "output_type": "stream",
     "text": [
      "['Pear', 'Pawpaw', 'Melon', 'Lemon', 'Grape', 'Grape', 'Coconut', 'Cherry', 'Banana', 'Apple']\n"
     ]
    }
   ],
   "source": [
    "fruits.reverse()#Reverse will rearrange the values in desecending order\n",
    "print(fruits)"
   ]
  },
  {
   "cell_type": "code",
   "execution_count": 20,
   "id": "2ae8bed2",
   "metadata": {},
   "outputs": [
    {
     "name": "stdout",
     "output_type": "stream",
     "text": [
      "['Pear', 'Pawpaw', 'Melon', 'Lemon', 'Grape', 'Grape', 'Coconut', 'Cherry', 'Banana', 'Apple']\n"
     ]
    }
   ],
   "source": [
    "copied_list = fruits.copy()#Copy will make a duplicate of the specified list\n",
    "print(copied_list)"
   ]
  },
  {
   "cell_type": "code",
   "execution_count": 21,
   "id": "e40d3761",
   "metadata": {},
   "outputs": [
    {
     "name": "stdout",
     "output_type": "stream",
     "text": [
      "[]\n"
     ]
    }
   ],
   "source": [
    "copied_list.clear()#clear will remove all the values in the specified list\n",
    "print(copied_list)"
   ]
  },
  {
   "cell_type": "code",
   "execution_count": 22,
   "id": "a3f605d9",
   "metadata": {},
   "outputs": [
    {
     "ename": "NameError",
     "evalue": "name 'copied_list' is not defined",
     "output_type": "error",
     "traceback": [
      "\u001b[1;31m---------------------------------------------------------------------------\u001b[0m",
      "\u001b[1;31mNameError\u001b[0m                                 Traceback (most recent call last)",
      "Input \u001b[1;32mIn [22]\u001b[0m, in \u001b[0;36m<cell line: 2>\u001b[1;34m()\u001b[0m\n\u001b[0;32m      1\u001b[0m \u001b[38;5;28;01mdel\u001b[39;00m(copied_list)\n\u001b[1;32m----> 2\u001b[0m \u001b[38;5;28mprint\u001b[39m(\u001b[43mcopied_list\u001b[49m)\n",
      "\u001b[1;31mNameError\u001b[0m: name 'copied_list' is not defined"
     ]
    }
   ],
   "source": [
    "del(copied_list)\n",
    "print(copied_list)"
   ]
  },
  {
   "cell_type": "markdown",
   "id": "2e96c880",
   "metadata": {},
   "source": [
    "# DICTIONARY\n",
    "### Dictionary is changeable\n",
    "### Dictionary can be ordered or unordered\n",
    "### We use the key to access any value from the Dictionary\n",
    "### we denote Dictionary with { }"
   ]
  },
  {
   "cell_type": "code",
   "execution_count": 23,
   "id": "2215cdb9",
   "metadata": {},
   "outputs": [
    {
     "name": "stdout",
     "output_type": "stream",
     "text": [
      "50\n"
     ]
    }
   ],
   "source": [
    "records = {\n",
    "    'Name':'Ade',\n",
    "    'Gender':'Male',\n",
    "    'Age':50,\n",
    "    'Height':1.90,\n",
    "    'Weight':78\n",
    "}\n",
    "print(records['Age'])"
   ]
  },
  {
   "cell_type": "code",
   "execution_count": 24,
   "id": "758ad67e",
   "metadata": {},
   "outputs": [
    {
     "name": "stdout",
     "output_type": "stream",
     "text": [
      "dict_keys(['Name', 'Gender', 'Age', 'Height', 'Weight'])\n"
     ]
    }
   ],
   "source": [
    "print(records.keys())"
   ]
  },
  {
   "cell_type": "code",
   "execution_count": 26,
   "id": "dd83e09d",
   "metadata": {},
   "outputs": [
    {
     "name": "stdout",
     "output_type": "stream",
     "text": [
      "dict_values(['Ade', 'Male', 50, 1.9, 78])\n"
     ]
    }
   ],
   "source": [
    "print(records.values())"
   ]
  },
  {
   "cell_type": "code",
   "execution_count": 27,
   "id": "6f12e9d0",
   "metadata": {},
   "outputs": [
    {
     "name": "stdout",
     "output_type": "stream",
     "text": [
      "dict_items([('Name', 'Ade'), ('Gender', 'Male'), ('Age', 50), ('Height', 1.9), ('Weight', 78)])\n"
     ]
    }
   ],
   "source": [
    "print(records.items())"
   ]
  },
  {
   "cell_type": "code",
   "execution_count": 28,
   "id": "0aeca699",
   "metadata": {},
   "outputs": [
    {
     "name": "stdout",
     "output_type": "stream",
     "text": [
      "{'Name': 'Ade', 'Gender': 'Male', 'Age': 50, 'Height': 1.9, 'Weight': 78, 'BMI': 28.5}\n"
     ]
    }
   ],
   "source": [
    "records['BMI'] = 28.5\n",
    "print(records)"
   ]
  },
  {
   "cell_type": "code",
   "execution_count": 29,
   "id": "40d6cdca",
   "metadata": {},
   "outputs": [
    {
     "name": "stdout",
     "output_type": "stream",
     "text": [
      "{'Name': 'Ade', 'Gender': 'Male', 'Age': 50, 'Height': 1.95, 'Weight': 78, 'BMI': 28.5}\n"
     ]
    }
   ],
   "source": [
    "r ={'Height':1.95}\n",
    "records.update(r)\n",
    "print(records)"
   ]
  },
  {
   "cell_type": "code",
   "execution_count": 30,
   "id": "5be248a4",
   "metadata": {},
   "outputs": [
    {
     "name": "stdout",
     "output_type": "stream",
     "text": [
      "{'Name': 'Ade', 'Gender': 'Male', 'Age': 50, 'Height': 1.95, 'Weight': 78}\n"
     ]
    }
   ],
   "source": [
    "records.popitem()\n",
    "print(records)"
   ]
  },
  {
   "cell_type": "code",
   "execution_count": 31,
   "id": "257b43b9",
   "metadata": {},
   "outputs": [
    {
     "name": "stdout",
     "output_type": "stream",
     "text": [
      "{'Name': 'Ade', 'Gender': 'Male', 'Age': 50, 'Weight': 78}\n"
     ]
    }
   ],
   "source": [
    "records.pop('Height')\n",
    "print(records)"
   ]
  },
  {
   "cell_type": "code",
   "execution_count": 33,
   "id": "0f0a83b4",
   "metadata": {},
   "outputs": [
    {
     "name": "stdout",
     "output_type": "stream",
     "text": [
      "Faith\n"
     ]
    }
   ],
   "source": [
    "details ={\n",
    "    \"Name\":['Job','Faith','Peace'],\n",
    "    \"Age\":[45,47,50]\n",
    "}\n",
    "print(details['Name'][1])"
   ]
  },
  {
   "cell_type": "code",
   "execution_count": null,
   "id": "31faf2c4",
   "metadata": {},
   "outputs": [],
   "source": []
  }
 ],
 "metadata": {
  "kernelspec": {
   "display_name": "Python 3 (ipykernel)",
   "language": "python",
   "name": "python3"
  },
  "language_info": {
   "codemirror_mode": {
    "name": "ipython",
    "version": 3
   },
   "file_extension": ".py",
   "mimetype": "text/x-python",
   "name": "python",
   "nbconvert_exporter": "python",
   "pygments_lexer": "ipython3",
   "version": "3.9.12"
  }
 },
 "nbformat": 4,
 "nbformat_minor": 5
}
